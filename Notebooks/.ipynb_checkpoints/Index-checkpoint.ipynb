{
 "cells": [
  {
   "cell_type": "markdown",
   "metadata": {},
   "source": [
    "# COVID-MultiVent\n",
    "\n",
    "The COVID MultiVent System was developed through a collaboration between Dr. Arun Agarwal, pulmonary critical care fellow at the University of Missouri, and a group of medical students at the University of Pennsylvania with backgrounds in various types of engineering. The system allows for monitoring of pressure and volume delivered to each patient and incorporates valve components that allow for peak inspiratory pressure (PIP), positive end expiratory pressure (PEEP), and inspiratory volume to be modulated independently for each patient. We have created open source assembly resources for this system to expedite its adoption in hospitals around the world with dire need of ventilation resources. The system is assembled with components that can be readily found in most hospitals. If you have questions regarding the system please contact us at **covid.multivent@gmail.com** \n",
    "\n",
    "Dr. Arun Agarwal\n",
    "\n",
    "Alexander Lee\n",
    "\n",
    "Feyisope Eweje\n",
    "\n",
    "Stephen Landy\n",
    "\n",
    "David Gordon\n",
    "\n",
    "Ryan Gallagher \n",
    "\n",
    "Alfredo Lucas"
   ]
  },
  {
   "cell_type": "code",
   "execution_count": 4,
   "metadata": {},
   "outputs": [
    {
     "data": {
      "text/html": [
       "<iframe src=\"https://docs.google.com/presentation/d/e/2PACX-1vT2kAsF54vHJoIti5iQkk8zUTkcQuRBFnbtgAhCoHwxrThIzZ14mCpdgNkWrqS8bRf5xFB2ZoeXlfUk/embed?start=false&loop=false&delayms=3000\" frameborder=\"0\" width=\"480\" height=\"299\" allowfullscreen=\"true\" mozallowfullscreen=\"true\" webkitallowfullscreen=\"true\"></iframe>\n"
      ],
      "text/plain": [
       "<IPython.core.display.HTML object>"
      ]
     },
     "metadata": {},
     "output_type": "display_data"
    }
   ],
   "source": [
    "%%html\n",
    "<iframe src=\"https://docs.google.com/presentation/d/e/2PACX-1vT2kAsF54vHJoIti5iQkk8zUTkcQuRBFnbtgAhCoHwxrThIzZ14mCpdgNkWrqS8bRf5xFB2ZoeXlfUk/embed?start=false&loop=false&delayms=3000\" frameborder=\"0\" width=\"480\" height=\"299\" allowfullscreen=\"true\" mozallowfullscreen=\"true\" webkitallowfullscreen=\"true\"></iframe>"
   ]
  },
  {
   "cell_type": "markdown",
   "metadata": {},
   "source": [
    "### Original Video and Facebook Group"
   ]
  },
  {
   "cell_type": "markdown",
   "metadata": {},
   "source": [
    "Please see below Dr. Agrawal's original video showing the proposed setup. A link to the MultiVent facebook group can be found [here](https://facebook.com/COVIDMULTIVENT/)."
   ]
  },
  {
   "cell_type": "code",
   "execution_count": 15,
   "metadata": {},
   "outputs": [
    {
     "data": {
      "text/html": [
       "\n",
       "<iframe width=\"560\" height=\"315\" src=\"https://www.youtube.com/embed/odnhnnlBlpM\" frameborder=\"0\" allow=\"accelerometer; autoplay; encrypted-media; gyroscope; picture-in-picture\" allowfullscreen></iframe>\n"
      ],
      "text/plain": [
       "<IPython.core.display.HTML object>"
      ]
     },
     "metadata": {},
     "output_type": "display_data"
    }
   ],
   "source": [
    "%%html\n",
    "\n",
    "<iframe width=\"560\" height=\"315\" src=\"https://www.youtube.com/embed/odnhnnlBlpM\" frameborder=\"0\" allow=\"accelerometer; autoplay; encrypted-media; gyroscope; picture-in-picture\" allowfullscreen></iframe>"
   ]
  },
  {
   "cell_type": "markdown",
   "metadata": {},
   "source": [
    "# Assembly Guide and Component List\n",
    "\n",
    "For detailed instructions on how to build the MultiVent setup please click [here](https://docs.google.com/document/d/11Z7MpeGSC6m3ipsMVLe-Ofkw4HeqCN6x1Zhqy8FMRpc/edit?usp=sharing)\n",
    "\n",
    "\n",
    "Below see the proposed parts list with the number of each part required for a single or a 2-patient setup. A list of vendors associated with each part is also included, however, note that almost all of these components will be readily available in many hospitals that already have ventilator setups. \n",
    "Click [here](https://docs.google.com/spreadsheets/d/1XikdFKNdgZAywoPw4oIWqJ9e0-a059ucXh8DSOGl4GA/edit?usp=sharing) for a Google Sheets version of this list."
   ]
  },
  {
   "cell_type": "code",
   "execution_count": 14,
   "metadata": {},
   "outputs": [
    {
     "data": {
      "text/html": [
       "<div>\n",
       "<style scoped>\n",
       "    .dataframe tbody tr th:only-of-type {\n",
       "        vertical-align: middle;\n",
       "    }\n",
       "\n",
       "    .dataframe tbody tr th {\n",
       "        vertical-align: top;\n",
       "    }\n",
       "\n",
       "    .dataframe thead th {\n",
       "        text-align: right;\n",
       "    }\n",
       "</style>\n",
       "<table border=\"1\" class=\"dataframe\">\n",
       "  <thead>\n",
       "    <tr style=\"text-align: right;\">\n",
       "      <th></th>\n",
       "      <th>Item</th>\n",
       "      <th>Qty for single</th>\n",
       "      <th>Qty to split</th>\n",
       "      <th>Vendors (part number)</th>\n",
       "      <th>Price/Unit</th>\n",
       "      <th>Description</th>\n",
       "    </tr>\n",
       "  </thead>\n",
       "  <tbody>\n",
       "    <tr>\n",
       "      <th>0</th>\n",
       "      <td>22mmF x 22mmF connector</td>\n",
       "      <td>3</td>\n",
       "      <td>8</td>\n",
       "      <td>Ikaria (80328), GlobalMed Inc (I2222), InterSu...</td>\n",
       "      <td>-</td>\n",
       "      <td>NaN</td>\n",
       "    </tr>\n",
       "    <tr>\n",
       "      <th>1</th>\n",
       "      <td>Ventilator T piece</td>\n",
       "      <td>0</td>\n",
       "      <td>2</td>\n",
       "      <td>Hull Anesthesia (1981), HEYMED Supply (15003900)</td>\n",
       "      <td>0.97</td>\n",
       "      <td>22M sides, 22F base. Does not require item #1 ...</td>\n",
       "    </tr>\n",
       "    <tr>\n",
       "      <th>2</th>\n",
       "      <td>22Mmm-22Mmm connector</td>\n",
       "      <td>2</td>\n",
       "      <td>6</td>\n",
       "      <td>Ikaria (1605-3134-000), GlobalMed Inc (I2215),...</td>\n",
       "      <td>-</td>\n",
       "      <td>NaN</td>\n",
       "    </tr>\n",
       "    <tr>\n",
       "      <th>3</th>\n",
       "      <td>One way valve</td>\n",
       "      <td>2</td>\n",
       "      <td>4</td>\n",
       "      <td>Ikaria (1605-3139-000), InterSurgical (1950000)</td>\n",
       "      <td>-</td>\n",
       "      <td>Female-to-male valve (need component 3 between...</td>\n",
       "    </tr>\n",
       "    <tr>\n",
       "      <th>4</th>\n",
       "      <td>Ball valve</td>\n",
       "      <td>1</td>\n",
       "      <td>2</td>\n",
       "      <td>Lowes - SharkBite ¼” Ball valve (835048)</td>\n",
       "      <td>9.78</td>\n",
       "      <td>NaN</td>\n",
       "    </tr>\n",
       "    <tr>\n",
       "      <th>5</th>\n",
       "      <td>Y piece</td>\n",
       "      <td>1</td>\n",
       "      <td>2</td>\n",
       "      <td>Hull Anesthesia (1926), GlobalMed Inc (I106)</td>\n",
       "      <td>0.84</td>\n",
       "      <td>22mm OD x 22mm OD x 15mm ID</td>\n",
       "    </tr>\n",
       "    <tr>\n",
       "      <th>6</th>\n",
       "      <td>HME filter</td>\n",
       "      <td>1</td>\n",
       "      <td>2</td>\n",
       "      <td>A-M Systems</td>\n",
       "      <td>60</td>\n",
       "      <td>Machine side: 15M/22F (22F goes with 22mm OD o...</td>\n",
       "    </tr>\n",
       "    <tr>\n",
       "      <th>7</th>\n",
       "      <td>PEEP valve</td>\n",
       "      <td>1</td>\n",
       "      <td>2</td>\n",
       "      <td>AmbuBag, Mainline Medical (8-90##-23), Intersu...</td>\n",
       "      <td>-</td>\n",
       "      <td>Requires bag to contain outflow, flow continue...</td>\n",
       "    </tr>\n",
       "    <tr>\n",
       "      <th>8</th>\n",
       "      <td>Manometer</td>\n",
       "      <td>1</td>\n",
       "      <td>2</td>\n",
       "      <td>Vitaly Medical (8199), Mercury Medical (1055356)</td>\n",
       "      <td>317.1</td>\n",
       "      <td>Type used in video</td>\n",
       "    </tr>\n",
       "    <tr>\n",
       "      <th>9</th>\n",
       "      <td>Pt-manometer T piece</td>\n",
       "      <td>1</td>\n",
       "      <td>2</td>\n",
       "      <td>Hull Anesthesia (1981)</td>\n",
       "      <td>0.97</td>\n",
       "      <td>22M sides, 22F base. Fits on pt side of HME fi...</td>\n",
       "    </tr>\n",
       "    <tr>\n",
       "      <th>10</th>\n",
       "      <td>Rubber grommet</td>\n",
       "      <td>2</td>\n",
       "      <td>4</td>\n",
       "      <td>Home Depot</td>\n",
       "      <td>1.51</td>\n",
       "      <td>3/4 in. Neoprene Grommet</td>\n",
       "    </tr>\n",
       "    <tr>\n",
       "      <th>11</th>\n",
       "      <td>Spirometer</td>\n",
       "      <td>1</td>\n",
       "      <td>2</td>\n",
       "      <td>Vitaly Medical (8884719009)</td>\n",
       "      <td>4.7</td>\n",
       "      <td>NaN</td>\n",
       "    </tr>\n",
       "    <tr>\n",
       "      <th>12</th>\n",
       "      <td>Air-tight box</td>\n",
       "      <td>1</td>\n",
       "      <td>2</td>\n",
       "      <td>The Container Store (10058868)</td>\n",
       "      <td>13.99</td>\n",
       "      <td>NaN</td>\n",
       "    </tr>\n",
       "    <tr>\n",
       "      <th>13</th>\n",
       "      <td>0.5” PVC adapter</td>\n",
       "      <td>1</td>\n",
       "      <td>2</td>\n",
       "      <td>Home Depot (301541214)</td>\n",
       "      <td>1.86</td>\n",
       "      <td>0.5” PVC adapter to fit through grommet</td>\n",
       "    </tr>\n",
       "    <tr>\n",
       "      <th>14</th>\n",
       "      <td>Ventilator circuit (tubing)</td>\n",
       "      <td>1</td>\n",
       "      <td>2</td>\n",
       "      <td>Vitaly Medical (RT 114)</td>\n",
       "      <td>25.67</td>\n",
       "      <td>NaN</td>\n",
       "    </tr>\n",
       "    <tr>\n",
       "      <th>15</th>\n",
       "      <td>Tubing from spirometer to Y piece</td>\n",
       "      <td>1</td>\n",
       "      <td>2</td>\n",
       "      <td>GlobalMed Inc</td>\n",
       "      <td>-</td>\n",
       "      <td>Corrugated tubing, 22mm ID of appropriate leng...</td>\n",
       "    </tr>\n",
       "    <tr>\n",
       "      <th>16</th>\n",
       "      <td>1” hole saw</td>\n",
       "      <td>1</td>\n",
       "      <td>1</td>\n",
       "      <td>Lowes (Item # 348126 Model # 1772481), Zoro (G...</td>\n",
       "      <td>10.98, 4.81</td>\n",
       "      <td>Add to drill to produce 1” hole in air-tight b...</td>\n",
       "    </tr>\n",
       "  </tbody>\n",
       "</table>\n",
       "</div>"
      ],
      "text/plain": [
       "                                 Item  Qty for single  Qty to split  \\\n",
       "0             22mmF x 22mmF connector               3             8   \n",
       "1                  Ventilator T piece               0             2   \n",
       "2               22Mmm-22Mmm connector               2             6   \n",
       "3                       One way valve               2             4   \n",
       "4                          Ball valve               1             2   \n",
       "5                             Y piece               1             2   \n",
       "6                          HME filter               1             2   \n",
       "7                          PEEP valve               1             2   \n",
       "8                           Manometer               1             2   \n",
       "9                Pt-manometer T piece               1             2   \n",
       "10                     Rubber grommet               2             4   \n",
       "11                         Spirometer               1             2   \n",
       "12                      Air-tight box               1             2   \n",
       "13                   0.5” PVC adapter               1             2   \n",
       "14        Ventilator circuit (tubing)               1             2   \n",
       "15  Tubing from spirometer to Y piece               1             2   \n",
       "16                        1” hole saw               1             1   \n",
       "\n",
       "                                Vendors (part number)   Price/Unit  \\\n",
       "0   Ikaria (80328), GlobalMed Inc (I2222), InterSu...            -   \n",
       "1    Hull Anesthesia (1981), HEYMED Supply (15003900)         0.97   \n",
       "2   Ikaria (1605-3134-000), GlobalMed Inc (I2215),...            -   \n",
       "3     Ikaria (1605-3139-000), InterSurgical (1950000)            -   \n",
       "4            Lowes - SharkBite ¼” Ball valve (835048)         9.78   \n",
       "5        Hull Anesthesia (1926), GlobalMed Inc (I106)         0.84   \n",
       "6                                         A-M Systems           60   \n",
       "7   AmbuBag, Mainline Medical (8-90##-23), Intersu...            -   \n",
       "8    Vitaly Medical (8199), Mercury Medical (1055356)        317.1   \n",
       "9                              Hull Anesthesia (1981)         0.97   \n",
       "10                                         Home Depot         1.51   \n",
       "11                        Vitaly Medical (8884719009)          4.7   \n",
       "12                     The Container Store (10058868)        13.99   \n",
       "13                             Home Depot (301541214)         1.86   \n",
       "14                            Vitaly Medical (RT 114)        25.67   \n",
       "15                                      GlobalMed Inc            -   \n",
       "16  Lowes (Item # 348126 Model # 1772481), Zoro (G...  10.98, 4.81   \n",
       "\n",
       "                                          Description  \n",
       "0                                                 NaN  \n",
       "1   22M sides, 22F base. Does not require item #1 ...  \n",
       "2                                                 NaN  \n",
       "3   Female-to-male valve (need component 3 between...  \n",
       "4                                                 NaN  \n",
       "5                         22mm OD x 22mm OD x 15mm ID  \n",
       "6   Machine side: 15M/22F (22F goes with 22mm OD o...  \n",
       "7   Requires bag to contain outflow, flow continue...  \n",
       "8                                  Type used in video  \n",
       "9   22M sides, 22F base. Fits on pt side of HME fi...  \n",
       "10                           3/4 in. Neoprene Grommet  \n",
       "11                                                NaN  \n",
       "12                                                NaN  \n",
       "13            0.5” PVC adapter to fit through grommet  \n",
       "14                                                NaN  \n",
       "15  Corrugated tubing, 22mm ID of appropriate leng...  \n",
       "16  Add to drill to produce 1” hole in air-tight b...  "
      ]
     },
     "execution_count": 14,
     "metadata": {},
     "output_type": "execute_result"
    }
   ],
   "source": [
    "import pandas as pd\n",
    "\n",
    "df = pd.read_excel('Website Ventilator splitting components.xlsx')\n",
    "df"
   ]
  },
  {
   "cell_type": "markdown",
   "metadata": {},
   "source": [
    "## Additional Resources"
   ]
  },
  {
   "cell_type": "markdown",
   "metadata": {},
   "source": [
    "[Ventilation Sharing Protocol developed by the Columbia University College of Physicians & Surgeons/New York-Presbyterian Hospital (3/24/20)](https://www.gnyha.org/wp-content/uploads/2020/03/Ventilator-Sharing-Protocol-Dual-Patient-Ventilation-with-a-Single-Mechanical-Ventilator-for-Use-during-Critical-Ventilator-Shortages.pdf)\n",
    "\n",
    "[PulmCrit - Splitting ventilators to provide titrated support to a large group of patients](https://emcrit.org/pulmcrit/split-ventilators/)\n",
    "\n",
    "[Medium article explain vent splitting methods - A better way of connecting multiple patients to a single ventilator](https://medium.com/@pinsonhannah/a-better-way-of-connecting-multiple-patients-to-a-single-ventilator-fa9cf42679c6)\n"
   ]
  },
  {
   "cell_type": "markdown",
   "metadata": {},
   "source": [
    "# ***DISCLAIMER - This system is currently not endorsed by the University of Missouri nor the University of Pennsylvania. Multi-patient ventilation should be attempted with the greatest of caution as an option of last resort with appropriate clinical guidance. The COVID MultiVent team does not assume any liability for adverse events that may occur that could in any way be tied to use of the system.***\n",
    "\n"
   ]
  },
  {
   "cell_type": "code",
   "execution_count": null,
   "metadata": {},
   "outputs": [],
   "source": []
  }
 ],
 "metadata": {
  "kernelspec": {
   "display_name": "Python 3",
   "language": "python",
   "name": "python3"
  },
  "language_info": {
   "codemirror_mode": {
    "name": "ipython",
    "version": 3
   },
   "file_extension": ".py",
   "mimetype": "text/x-python",
   "name": "python",
   "nbconvert_exporter": "python",
   "pygments_lexer": "ipython3",
   "version": "3.7.6"
  }
 },
 "nbformat": 4,
 "nbformat_minor": 4
}
